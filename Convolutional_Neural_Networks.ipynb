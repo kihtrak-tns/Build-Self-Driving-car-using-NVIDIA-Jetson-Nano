{
  "nbformat": 4,
  "nbformat_minor": 0,
  "metadata": {
    "kernelspec": {
      "name": "python3",
      "display_name": "Python 3"
    },
    "language_info": {
      "codemirror_mode": {
        "name": "ipython",
        "version": 3
      },
      "file_extension": ".py",
      "mimetype": "text/x-python",
      "name": "python",
      "nbconvert_exporter": "python",
      "pygments_lexer": "ipython3",
      "version": "3.6.2"
    },
    "colab": {
      "name": "Convolutional Neural Networks.ipynb",
      "provenance": [],
      "collapsed_sections": [],
      "include_colab_link": true
    },
    "accelerator": "GPU"
  },
  "cells": [
    {
      "cell_type": "markdown",
      "metadata": {
        "id": "view-in-github",
        "colab_type": "text"
      },
      "source": [
        "<a href=\"https://colab.research.google.com/github/kihtrak-tns/Build-Self-Driving-car-using-NVIDIA-Jetson-Nano/blob/master/Convolutional_Neural_Networks.ipynb\" target=\"_parent\"><img src=\"https://colab.research.google.com/assets/colab-badge.svg\" alt=\"Open In Colab\"/></a>"
      ]
    },
    {
      "cell_type": "code",
      "metadata": {
        "id": "JX0Fm4LOorQC",
        "colab_type": "code",
        "outputId": "c5225f5e-1c21-4879-bad4-ebbd8b470651",
        "colab": {
          "base_uri": "https://localhost:8080/",
          "height": 97
        }
      },
      "source": [
        "import numpy as np\n",
        "import matplotlib.pyplot as plt\n",
        "import keras\n",
        "from keras.datasets import mnist\n",
        "from keras.models import Sequential\n",
        "from keras.layers import Dense\n",
        "from keras.optimizers import Adam\n",
        "from keras.utils.np_utils import to_categorical\n",
        "from keras.layers import Flatten\n",
        "from keras.layers.convolutional import Conv2D\n",
        "from keras.layers.convolutional import MaxPooling2D\n",
        "from keras.layers import Dropout\n",
        "from keras.models import Model\n",
        "import random"
      ],
      "execution_count": 0,
      "outputs": [
        {
          "output_type": "stream",
          "text": [
            "Using TensorFlow backend.\n"
          ],
          "name": "stderr"
        },
        {
          "output_type": "display_data",
          "data": {
            "text/html": [
              "<p style=\"color: red;\">\n",
              "The default version of TensorFlow in Colab will soon switch to TensorFlow 2.x.<br>\n",
              "We recommend you <a href=\"https://www.tensorflow.org/guide/migrate\" target=\"_blank\">upgrade</a> now \n",
              "or ensure your notebook will continue to use TensorFlow 1.x via the <code>%tensorflow_version 1.x</code> magic:\n",
              "<a href=\"https://colab.research.google.com/notebooks/tensorflow_version.ipynb\" target=\"_blank\">more info</a>.</p>\n"
            ],
            "text/plain": [
              "<IPython.core.display.HTML object>"
            ]
          },
          "metadata": {
            "tags": []
          }
        }
      ]
    },
    {
      "cell_type": "code",
      "metadata": {
        "id": "ondcuy5QorQR",
        "colab_type": "code",
        "colab": {}
      },
      "source": [
        "np.random.seed(0)"
      ],
      "execution_count": 0,
      "outputs": []
    },
    {
      "cell_type": "code",
      "metadata": {
        "id": "TlUKHtoMorQa",
        "colab_type": "code",
        "outputId": "a5b155ac-cf42-40dd-ae6e-2c36d0dda4d7",
        "colab": {
          "base_uri": "https://localhost:8080/",
          "height": 85
        }
      },
      "source": [
        "(X_train, y_train), (X_test, y_test)= mnist.load_data()\n",
        " \n",
        "print(X_train.shape)\n",
        "print(X_test.shape)\n",
        "assert(X_train.shape[0] == y_train.shape[0]), \"The number of images is not equal to the number of labels.\"\n",
        "assert(X_train.shape[1:] == (28,28)), \"The dimensions of the images are not 28 x 28.\"\n",
        "assert(X_test.shape[0] == y_test.shape[0]), \"The number of images is not equal to the number of labels.\"\n",
        "assert(X_test.shape[1:] == (28,28)), \"The dimensions of the images are not 28 x 28.\""
      ],
      "execution_count": 0,
      "outputs": [
        {
          "output_type": "stream",
          "text": [
            "Downloading data from https://s3.amazonaws.com/img-datasets/mnist.npz\n",
            "11493376/11490434 [==============================] - 0s 0us/step\n",
            "(60000, 28, 28)\n",
            "(10000, 28, 28)\n"
          ],
          "name": "stdout"
        }
      ]
    },
    {
      "cell_type": "code",
      "metadata": {
        "id": "Ak9DfT5EorQi",
        "colab_type": "code",
        "outputId": "9e56fdef-ff17-442f-edb1-9e218d7fbd7a",
        "colab": {
          "base_uri": "https://localhost:8080/",
          "height": 718
        }
      },
      "source": [
        "num_of_samples=[]\n",
        " \n",
        "cols = 5\n",
        "num_classes = 10\n",
        " \n",
        "fig, axs = plt.subplots(nrows=num_classes, ncols=cols, figsize=(5,10))\n",
        "fig.tight_layout()\n",
        " \n",
        "for i in range(cols):\n",
        "    for j in range(num_classes):\n",
        "      x_selected = X_train[y_train == j]\n",
        "      axs[j][i].imshow(x_selected[random.randint(0,(len(x_selected) - 1)), :, :], cmap=plt.get_cmap('gray'))\n",
        "      axs[j][i].axis(\"off\")\n",
        "      if i == 2:\n",
        "        axs[j][i].set_title(str(j))\n",
        "        num_of_samples.append(len(x_selected))"
      ],
      "execution_count": 0,
      "outputs": [
        {
          "output_type": "display_data",
          "data": {
            "image/png": "[encoded data removed]",
            "text/plain": [
              "<Figure size 360x720 with 50 Axes>"
            ]
          },
          "metadata": {
            "tags": []
          }
        }
      ]
    },
    {
      "cell_type": "markdown",
      "metadata": {
        "id": "lY9Wg8cUorQq",
        "colab_type": "text"
      },
      "source": [
        "## We flatten out our data into 1D arrays to feed them into the feedforward neural network whereas we reshaped them in MNIST for matrix mul"
      ]
    },
    {
      "cell_type": "code",
      "metadata": {
        "id": "GUmkKQl7orQs",
        "colab_type": "code",
        "outputId": "dbc7f48e-a793-453a-a05e-3609c8b61d24",
        "colab": {
          "base_uri": "https://localhost:8080/",
          "height": 312
        }
      },
      "source": [
        "print(num_of_samples)\n",
        "plt.figure(figsize=(12, 4))\n",
        "plt.bar(range(0, num_classes), num_of_samples)\n",
        "plt.title(\"Distribution of the train dataset\")\n",
        "plt.xlabel(\"Class number\")\n",
        "plt.ylabel(\"Number of images\")\n",
        "plt.show()\n",
        " \n",
        "\n",
        "\n",
        "X_train = X_train.reshape(60000, 28, 28, 1)\n",
        "X_test = X_test.reshape(10000, 28, 28, 1)\n",
        "\n",
        "\n",
        "y_train = to_categorical(y_train, 10)\n",
        "y_test = to_categorical(y_test, 10)\n",
        " \n",
        "X_train = X_train/255\n",
        "X_test = X_test/255\n",
        "\n"
      ],
      "execution_count": 0,
      "outputs": [
        {
          "output_type": "stream",
          "text": [
            "[5923, 6742, 5958, 6131, 5842, 5421, 5918, 6265, 5851, 5949]\n"
          ],
          "name": "stdout"
        },
        {
          "output_type": "display_data",
          "data": {
            "image/png": "[encoded data removed]",
            "text/plain": [
              "<Figure size 864x288 with 1 Axes>"
            ]
          },
          "metadata": {
            "tags": []
          }
        }
      ]
    },
    {
      "cell_type": "markdown",
      "metadata": {
        "id": "IIDOQRIq_8rS",
        "colab_type": "text"
      },
      "source": [
        " -> We use 30 filters in our model, as the number increases so does the computational complexity.\n",
        "\n",
        " -> Each filter will have a 5x5 format of parameter values. The input will have a 28x28 image with a single layer depth. \n",
        " \n",
        "  -> Each filter has 25 elements: 30 * 25 = 750 + 30 bias (for each of the filter) = 780 elements. \n",
        "\n",
        "  ->  The smaller the stride, the more information it retains as more convolutional operations are conducted.  \n",
        "\n",
        "\n",
        "->  With padding, we preserve the spatial dimensionality; but in our case our images have information in the center and the borders dont give us much information about the image.\n",
        "\n",
        "-> In the beginning, the 28x28 image is scaled down to 24x24 with 30 layers of depth. After the first round of pooling with 2x2 filter, the image is further scaled down to half, 12x12. \n",
        "\n",
        "-> In the second round, each filter is fed with 30 convoluted layers, hence 15 * 30 * 3 * 3 + 15 bias = 4065 parameters. \n",
        "\n",
        "-> We flatten the array to feed it into our neural network; and we choose an arbitary number of nodes\n",
        "\n",
        "--> We keep our droupouts in the layer that has more number of parameters to avoid overfitting. Hence we place our dropout layer between fully connected layer. 0.5 is chosen as recommended by researchers who found it to avoid overfitting\n",
        "\n"
      ]
    },
    {
      "cell_type": "code",
      "metadata": {
        "id": "zSTt8rKupxnI",
        "colab_type": "code",
        "colab": {}
      },
      "source": [
        "#define the Lenet_model_function\n",
        "\n",
        "def leNet_model() :\n",
        "  model = Sequential()\n",
        "  model.add(Conv2D(30, (5, 5), input_shape = (28, 28, 1), activation='relu'))\n",
        "  model.add(MaxPooling2D(pool_size=(2,2)))\n",
        "  model.add(Conv2D(15, (3, 3), activation='relu'))\n",
        "  model.add(MaxPooling2D(pool_size=(2,2)))\n",
        "  model.add(Flatten())\n",
        "  model.add(Dense(500, activation='relu'))\n",
        "  model.add(Dropout(0.5))\n",
        "  model.add(Dense(num_classes, activation='softmax'))\n",
        "  model.compile(Adam(lr=0.01), loss='categorical_crossentropy', metrics=['accuracy'])\n",
        "  return model\n"
      ],
      "execution_count": 0,
      "outputs": []
    },
    {
      "cell_type": "code",
      "metadata": {
        "id": "Z8QKQoWuSdHI",
        "colab_type": "code",
        "outputId": "b8492de6-0d3d-4365-feda-8632117a3edd",
        "colab": {
          "base_uri": "https://localhost:8080/",
          "height": 751
        }
      },
      "source": [
        "model = leNet_model()\n",
        "print(model.summary())"
      ],
      "execution_count": 0,
      "outputs": [
        {
          "output_type": "stream",
          "text": [
            "WARNING:tensorflow:From /usr/local/lib/python3.6/dist-packages/keras/backend/tensorflow_backend.py:66: The name tf.get_default_graph is deprecated. Please use tf.compat.v1.get_default_graph instead.\n",
            "\n",
            "WARNING:tensorflow:From /usr/local/lib/python3.6/dist-packages/keras/backend/tensorflow_backend.py:541: The name tf.placeholder is deprecated. Please use tf.compat.v1.placeholder instead.\n",
            "\n",
            "WARNING:tensorflow:From /usr/local/lib/python3.6/dist-packages/keras/backend/tensorflow_backend.py:4432: The name tf.random_uniform is deprecated. Please use tf.random.uniform instead.\n",
            "\n",
            "WARNING:tensorflow:From /usr/local/lib/python3.6/dist-packages/keras/backend/tensorflow_backend.py:4267: The name tf.nn.max_pool is deprecated. Please use tf.nn.max_pool2d instead.\n",
            "\n",
            "WARNING:tensorflow:From /usr/local/lib/python3.6/dist-packages/keras/backend/tensorflow_backend.py:148: The name tf.placeholder_with_default is deprecated. Please use tf.compat.v1.placeholder_with_default instead.\n",
            "\n",
            "WARNING:tensorflow:From /usr/local/lib/python3.6/dist-packages/keras/backend/tensorflow_backend.py:3733: calling dropout (from tensorflow.python.ops.nn_ops) with keep_prob is deprecated and will be removed in a future version.\n",
            "Instructions for updating:\n",
            "Please use `rate` instead of `keep_prob`. Rate should be set to `rate = 1 - keep_prob`.\n",
            "WARNING:tensorflow:From /usr/local/lib/python3.6/dist-packages/keras/optimizers.py:793: The name tf.train.Optimizer is deprecated. Please use tf.compat.v1.train.Optimizer instead.\n",
            "\n",
            "WARNING:tensorflow:From /usr/local/lib/python3.6/dist-packages/keras/backend/tensorflow_backend.py:3576: The name tf.log is deprecated. Please use tf.math.log instead.\n",
            "\n",
            "Model: \"sequential_1\"\n",
            "_________________________________________________________________\n",
            "Layer (type)                 Output Shape              Param #   \n",
            "=================================================================\n",
            "conv2d_1 (Conv2D)            (None, 24, 24, 30)        780       \n",
            "_________________________________________________________________\n",
            "max_pooling2d_1 (MaxPooling2 (None, 12, 12, 30)        0         \n",
            "_________________________________________________________________\n",
            "conv2d_2 (Conv2D)            (None, 10, 10, 15)        4065      \n",
            "_________________________________________________________________\n",
            "max_pooling2d_2 (MaxPooling2 (None, 5, 5, 15)          0         \n",
            "_________________________________________________________________\n",
            "flatten_1 (Flatten)          (None, 375)               0         \n",
            "_________________________________________________________________\n",
            "dense_1 (Dense)              (None, 500)               188000    \n",
            "_________________________________________________________________\n",
            "dropout_1 (Dropout)          (None, 500)               0         \n",
            "_________________________________________________________________\n",
            "dense_2 (Dense)              (None, 10)                5010      \n",
            "=================================================================\n",
            "Total params: 197,855\n",
            "Trainable params: 197,855\n",
            "Non-trainable params: 0\n",
            "_________________________________________________________________\n",
            "None\n"
          ],
          "name": "stdout"
        }
      ]
    },
    {
      "cell_type": "code",
      "metadata": {
        "id": "XpmJEqXQSlPw",
        "colab_type": "code",
        "outputId": "0209f5d6-5fd6-4bfe-97c3-aa60a679a142",
        "colab": {
          "base_uri": "https://localhost:8080/",
          "height": 394
        }
      },
      "source": [
        "history = model.fit(np.array(X_train), np.array(y_train), epochs=10, validation_split=0.1, batch_size=400, verbose=1, shuffle=1)"
      ],
      "execution_count": 0,
      "outputs": [
        {
          "output_type": "stream",
          "text": [
            "Train on 54000 samples, validate on 6000 samples\n",
            "Epoch 1/10\n",
            "54000/54000 [==============================] - 1s 23us/step - loss: 0.0391 - acc: 0.9880 - val_loss: 0.0331 - val_acc: 0.9900\n",
            "Epoch 2/10\n",
            "54000/54000 [==============================] - 1s 21us/step - loss: 0.0401 - acc: 0.9880 - val_loss: 0.0364 - val_acc: 0.9913\n",
            "Epoch 3/10\n",
            "54000/54000 [==============================] - 1s 22us/step - loss: 0.0377 - acc: 0.9888 - val_loss: 0.0356 - val_acc: 0.9905\n",
            "Epoch 4/10\n",
            "54000/54000 [==============================] - 1s 23us/step - loss: 0.0315 - acc: 0.9904 - val_loss: 0.0413 - val_acc: 0.9888\n",
            "Epoch 5/10\n",
            "54000/54000 [==============================] - 1s 23us/step - loss: 0.0304 - acc: 0.9907 - val_loss: 0.0450 - val_acc: 0.9900\n",
            "Epoch 6/10\n",
            "54000/54000 [==============================] - 1s 22us/step - loss: 0.0351 - acc: 0.9898 - val_loss: 0.0473 - val_acc: 0.9908\n",
            "Epoch 7/10\n",
            "54000/54000 [==============================] - 1s 22us/step - loss: 0.0372 - acc: 0.9897 - val_loss: 0.0505 - val_acc: 0.9882\n",
            "Epoch 8/10\n",
            "54000/54000 [==============================] - 1s 22us/step - loss: 0.0363 - acc: 0.9892 - val_loss: 0.0481 - val_acc: 0.9890\n",
            "Epoch 9/10\n",
            "54000/54000 [==============================] - 1s 23us/step - loss: 0.0404 - acc: 0.9888 - val_loss: 0.0413 - val_acc: 0.9902\n",
            "Epoch 10/10\n",
            "54000/54000 [==============================] - 1s 22us/step - loss: 0.0318 - acc: 0.9905 - val_loss: 0.0405 - val_acc: 0.9905\n"
          ],
          "name": "stdout"
        }
      ]
    },
    {
      "cell_type": "code",
      "metadata": {
        "id": "gh0ZviBCTMdD",
        "colab_type": "code",
        "outputId": "a4c87fc1-a5b9-4bd3-b83e-8e1e2e0fcc12",
        "colab": {
          "base_uri": "https://localhost:8080/",
          "height": 312
        }
      },
      "source": [
        "plt.plot(history.history['loss'])\n",
        "plt.plot(history.history['val_loss'])\n",
        "plt.legend(['loss', 'val_loss'])\n",
        "plt.title('loss')\n",
        "plt.xlabel('epoch')"
      ],
      "execution_count": 0,
      "outputs": [
        {
          "output_type": "execute_result",
          "data": {
            "text/plain": [
              "Text(0.5, 0, 'epoch')"
            ]
          },
          "metadata": {
            "tags": []
          },
          "execution_count": 9
        },
        {
          "output_type": "display_data",
          "data": {
            "image/png": "[encoded data removed]",
            "text/plain": [
              "<Figure size 432x288 with 1 Axes>"
            ]
          },
          "metadata": {
            "tags": []
          }
        }
      ]
    },
    {
      "cell_type": "markdown",
      "metadata": {
        "id": "Vuta3MRJV3CT",
        "colab_type": "text"
      },
      "source": [
        "We've less errors classifying MNIST set in CNN\n"
      ]
    },
    {
      "cell_type": "code",
      "metadata": {
        "id": "oe4Ib4UDV805",
        "colab_type": "code",
        "outputId": "c42e6bd9-4fe1-459e-f6f3-91b7aa679994",
        "colab": {
          "base_uri": "https://localhost:8080/",
          "height": 286
        }
      },
      "source": [
        "import requests\n",
        "from PIL import Image\n",
        "url = 'https://www.researchgate.net/profile/Jose_Sempere/publication/221258631/figure/fig1/AS:305526891139075@1449854695342/Handwritten-digit-2.png'\n",
        "response = requests.get(url, stream = True)\n",
        "img = Image.open(response.raw)\n",
        "plt.imshow(img, cmap=plt.get_cmap('gray'))\n"
      ],
      "execution_count": 0,
      "outputs": [
        {
          "output_type": "execute_result",
          "data": {
            "text/plain": [
              "<matplotlib.image.AxesImage at 0x7f63b65c2cf8>"
            ]
          },
          "metadata": {
            "tags": []
          },
          "execution_count": 10
        },
        {
          "output_type": "display_data",
          "data": {
            "image/png": "[encoded data removed]",
            "text/plain": [
              "<Figure size 432x288 with 1 Axes>"
            ]
          },
          "metadata": {
            "tags": []
          }
        }
      ]
    },
    {
      "cell_type": "code",
      "metadata": {
        "id": "9AqJudczWxuq",
        "colab_type": "code",
        "colab": {}
      },
      "source": [
        "import cv2\n",
        "\n",
        "img_array = np.asarray(img)\n",
        "resized = cv2.resize(img_array, (28,28))\n",
        "gray_scale = cv2.cvtColor(resized, cv2.COLOR_BGR2GRAY)\n",
        "image = cv2.bitwise_not(gray_scale)"
      ],
      "execution_count": 0,
      "outputs": []
    },
    {
      "cell_type": "markdown",
      "metadata": {
        "id": "ONHuOm76XJxy",
        "colab_type": "text"
      },
      "source": [
        "In CNN, the image is reshaped to 28 x 28 with a single channel."
      ]
    },
    {
      "cell_type": "code",
      "metadata": {
        "id": "RGRshUXwW_HY",
        "colab_type": "code",
        "colab": {}
      },
      "source": [
        "image = image/255\n",
        "image = image.reshape(1, 28, 28, 1)"
      ],
      "execution_count": 0,
      "outputs": []
    },
    {
      "cell_type": "code",
      "metadata": {
        "id": "uylSiGU3XPx3",
        "colab_type": "code",
        "outputId": "8f2f875d-198f-49bf-c120-a914487457e6",
        "colab": {
          "base_uri": "https://localhost:8080/",
          "height": 34
        }
      },
      "source": [
        "prediction = model.predict_classes(image)\n",
        "print(\"predicted digit:\", str(prediction))"
      ],
      "execution_count": 0,
      "outputs": [
        {
          "output_type": "stream",
          "text": [
            "predicted digit: [2]\n"
          ],
          "name": "stdout"
        }
      ]
    },
    {
      "cell_type": "markdown",
      "metadata": {
        "id": "fH7ORTrwvlxJ",
        "colab_type": "text"
      },
      "source": [
        "# The Model() (like Sequential())allows us to instantiate layers from pretrained models, allowing to use the sections from pretrained models which we use to read through the outputs of the convoluted layers. It will complete all the calculations by itself and allow us to see exactly what's happening with the parameters between the layers.\n",
        "\n",
        "-> It takes inputs and outputs of the layers, as arguments. In our case, the input will be the image that is first being fed into the neural network : for layer1.\n",
        "\n",
        "->for layer2: the inputs remain the same, but the output is now going to be in the second index of the outputs array i.e. after second convolution."
      ]
    },
    {
      "cell_type": "code",
      "metadata": {
        "id": "pWMGoSzHvI2b",
        "colab_type": "code",
        "colab": {}
      },
      "source": [
        "layer1 = Model(inputs=model.layers[0].input, outputs=model.layers[0].output)\n",
        "layer2 = Model(inputs=model.layers[0].input, outputs=model.layers[2].output)\n",
        "\n",
        "visual_layer1 = layer1.predict(image)\n",
        "visual_layer2 = layer2.predict(image)"
      ],
      "execution_count": 0,
      "outputs": []
    },
    {
      "cell_type": "code",
      "metadata": {
        "id": "R7f3altuwNla",
        "colab_type": "code",
        "outputId": "1057b539-45fb-416e-c848-ca5d8f93ed7b",
        "colab": {
          "base_uri": "https://localhost:8080/",
          "height": 357
        }
      },
      "source": [
        "plt.figure(figsize = (10,6))\n",
        "for i in range(30):\n",
        "    plt.subplot(6, 5, i+1)\n",
        "    plt.imshow(visual_layer1[0, :, :, i], cmap = plt.get_cmap('jet'))\n",
        "    plt.axis('off')\n",
        "    "
      ],
      "execution_count": 0,
      "outputs": [
        {
          "output_type": "display_data",
          "data": {
            "image/png": "[encoded data removed]",
            "text/plain": [
              "<Figure size 720x432 with 30 Axes>"
            ]
          },
          "metadata": {
            "tags": []
          }
        }
      ]
    },
    {
      "cell_type": "markdown",
      "metadata": {
        "id": "thIQg-8H86t7",
        "colab_type": "text"
      },
      "source": [
        "The red ones are with highest intensity and the blue ones are with lowest intensity."
      ]
    },
    {
      "cell_type": "code",
      "metadata": {
        "id": "cp-Ojtp79bfR",
        "colab_type": "code",
        "outputId": "81fc4f7f-4a82-4bb2-867a-bade1c5390a4",
        "colab": {
          "base_uri": "https://localhost:8080/",
          "height": 357
        }
      },
      "source": [
        "plt.figure(figsize = (10,6))\n",
        "for i in range(15):\n",
        "    plt.subplot(3, 5, i+1)\n",
        "    plt.imshow(visual_layer2[0, :, :, i], cmap = plt.get_cmap('jet'))\n",
        "    plt.axis('off')\n",
        "    "
      ],
      "execution_count": 0,
      "outputs": [
        {
          "output_type": "display_data",
          "data": {
            "image/png": "[encoded data removed]",
            "text/plain": [
              "<Figure size 720x432 with 15 Axes>"
            ]
          },
          "metadata": {
            "tags": []
          }
        }
      ]
    },
    {
      "cell_type": "markdown",
      "metadata": {
        "id": "HreS-XfA9gkl",
        "colab_type": "text"
      },
      "source": [
        "The images might seem to have less information but has more features that give a detailed info of the image which gives us a good prediction."
      ]
    }
  ]
}