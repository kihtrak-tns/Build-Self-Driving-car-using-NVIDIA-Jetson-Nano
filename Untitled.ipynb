{
 "cells": [
  {
   "cell_type": "markdown",
   "metadata": {},
   "source": [
    "## plot_decision_boundary func is to create a contour plot of our decision boundary"
   ]
  },
  {
   "cell_type": "code",
   "execution_count": null,
   "metadata": {},
   "outputs": [],
   "source": [
    "# X -> The input data array (both the top and bottom ones)\n",
    "# y -> Matrix of labels \n",
    "# model -> Sequential model that we created to train our data\n",
    "# x_span & y_span -> Horizontal and vertical stretch from min and max values of X\n",
    "## We add and subtract '1' to add tolerance in order to space out the values for better display\n",
    "# xx, yy -> The .meshgrid() takes the 50 elements of both the arguments and convert it from 1D to 2D array by repeating the elements \n",
    "# in the row-wise (xx) and column-wise (yy).\n",
    "# grid -> For every y coord we have 50 x coordinates, thereby forming a grid by concating flattened xx and yy.\n",
    "# model.predict(grid), a keras function is going to gives us the predictions based on our input arrays\n",
    "# z -> To ensure that our predictions array has the same size as our grid's coordinates\n",
    "# .contourf() -> prints distinct contour zones. Each contour zone has an increased threshold of probability, to classify the data\n",
    "# into distinct classes\n",
    "\n",
    "\n",
    "def plot_decision_boundary(X, y, model) :\n",
    "    x_span = np.linspace(min(X[:, 0]) - 1, max(X[:, 0]) + 1, 3)\n",
    "    y_span = np.linspace(min(X[:, 1]) - 1, max(X[:, 1]) + 1, 3)\n",
    "    xx, yy = np.meshgrid(x_span, y_span)\n",
    "    xx_, yy_ = xx.ravel(), yy.ravel()\n",
    "    grid = np.c_[xx_, yy_]\n",
    "    predictions_func = model.predict(grid)\n",
    "    z = predictions_func.reshape(xx.shape)\n",
    "    plt.contourf(xx, yy, z)"
   ]
  },
  {
   "cell_type": "code",
   "execution_count": null,
   "metadata": {},
   "outputs": [],
   "source": [
    "plot_decision_boundary(X, y, model)\n",
    "plt.scatter(X[:n_pts,0], X[:n_pts,1])\n",
    "plt.scatter(X[n_pts:,0], X[n_pts:,1])\n",
    " \n",
    "plot_decision_boundary(X, y, model)\n",
    "plt.scatter(X[:n_pts,0], X[:n_pts,1])\n",
    "plt.scatter(X[n_pts:,0], X[n_pts:,1])\n",
    "x = 7.5\n",
    "y = 5\n",
    " \n",
    " \n",
    "point = np.array([[x, y]])\n",
    "prediction = model.predict(point)\n",
    "plt.plot([x], [y], marker='o', markersize=10, color=\"red\")\n",
    "print(\"prediction is: \",prediction)"
   ]
  }
 ],
 "metadata": {
  "kernelspec": {
   "display_name": "Python 3",
   "language": "python",
   "name": "python3"
  },
  "language_info": {
   "codemirror_mode": {
    "name": "ipython",
    "version": 3
   },
   "file_extension": ".py",
   "mimetype": "text/x-python",
   "name": "python",
   "nbconvert_exporter": "python",
   "pygments_lexer": "ipython3",
   "version": "3.6.2"
  }
 },
 "nbformat": 4,
 "nbformat_minor": 4
}
